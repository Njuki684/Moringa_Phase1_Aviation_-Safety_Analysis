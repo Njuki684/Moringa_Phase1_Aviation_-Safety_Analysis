{
 "cells": [
  {
   "cell_type": "markdown",
   "id": "c1d588b4",
   "metadata": {},
   "source": [
    "# 1. Business Understanding"
   ]
  },
  {
   "cell_type": "markdown",
   "id": "d5edb57a",
   "metadata": {},
   "source": [
    "# 2. Data Understandind"
   ]
  },
  {
   "cell_type": "markdown",
   "id": "b6d265a3",
   "metadata": {},
   "source": [
    "\n",
    "    Business Understanding\n",
    "    Data Understanding\n",
    "    Data Preparation\n",
    "    Data Analysis\n",
    "    \n"
   ]
  },
  {
   "cell_type": "code",
   "execution_count": null,
   "id": "fb66b70d",
   "metadata": {},
   "outputs": [],
   "source": [
    "# Imort libraries"
   ]
  },
  {
   "cell_type": "code",
   "execution_count": 7,
   "id": "90d57df0",
   "metadata": {},
   "outputs": [],
   "source": [
    "import pandas as pd\n",
    "import numpy as np\n",
    "import matplotlib.pyplot as plt\n",
    "import seaborn as sns\n",
    "import plotly.express as px\n",
    "import scipy.stats as stats\n",
    "import statsmodels.api as sm"
   ]
  },
  {
   "cell_type": "code",
   "execution_count": 8,
   "id": "e236a6fb",
   "metadata": {},
   "outputs": [
    {
     "name": "stdout",
     "output_type": "stream",
     "text": [
      "c:\\Users\\lenovo\\Documents\\Moringa ips\\Phase 1 ip\n"
     ]
    }
   ],
   "source": [
    "import os\n",
    "print(os.getcwd())"
   ]
  },
  {
   "cell_type": "code",
   "execution_count": 26,
   "id": "4a2ac54f",
   "metadata": {},
   "outputs": [
    {
     "name": "stderr",
     "output_type": "stream",
     "text": [
      "C:\\Users\\lenovo\\AppData\\Local\\Temp\\ipykernel_8416\\3935774916.py:1: DtypeWarning: Columns (6,7,28) have mixed types. Specify dtype option on import or set low_memory=False.\n",
      "  aviation_data = pd.read_csv('data/AviationData.csv', encoding='latin1')\n"
     ]
    }
   ],
   "source": [
    "aviation_data = pd.read_csv('data/AviationData.csv', encoding='latin1')\n",
    "state_codes = pd.read_csv('data/USState_Codes.csv', encoding='latin1')"
   ]
  },
  {
   "cell_type": "code",
   "execution_count": 27,
   "id": "04320a2d",
   "metadata": {},
   "outputs": [],
   "source": [
    "# original data before modifying\n",
    "aviation_data_raw = aviation_data.copy()\n",
    "state_codes_raw = state_codes.copy()"
   ]
  },
  {
   "cell_type": "code",
   "execution_count": 45,
   "id": "e50684a1",
   "metadata": {},
   "outputs": [
    {
     "name": "stdout",
     "output_type": "stream",
     "text": [
      "c:\\Users\\lenovo\\Documents\\Moringa ips\\Phase 1 ip\n",
      " Volume in drive C has no label.\n",
      " Volume Serial Number is C20C-5E1E\n",
      "\n",
      " Directory of c:\\Users\\lenovo\\Documents\\Moringa ips\\Phase 1 ip\n",
      "\n",
      "04/25/2025  12:58 PM    <DIR>          .\n",
      "04/25/2025  12:10 PM    <DIR>          ..\n",
      "04/28/2025  03:57 PM             2,319 Aviation_Safety_Assessment..ipynb\n",
      "04/28/2025  10:30 PM    <DIR>          Data\n",
      "04/25/2025  12:42 PM    <DIR>          Images\n",
      "04/25/2025  12:12 PM    <DIR>          Presentation\n",
      "04/25/2025  12:42 PM                 0 README.md\n",
      "               2 File(s)          2,319 bytes\n",
      "               5 Dir(s)  43,262,590,976 bytes free\n"
     ]
    }
   ],
   "source": [
    "\n",
    "\n",
    "import os\n",
    "print(os.getcwd())\n",
    "!dir"
   ]
  },
  {
   "cell_type": "code",
   "execution_count": 50,
   "id": "c7b9d36b",
   "metadata": {},
   "outputs": [
    {
     "name": "stderr",
     "output_type": "stream",
     "text": [
      "C:\\Users\\lenovo\\AppData\\Local\\Temp\\ipykernel_8416\\2939004643.py:1: DtypeWarning: Columns (6,7,28) have mixed types. Specify dtype option on import or set low_memory=False.\n",
      "  df1 = pd.read_csv('data/Aviation_Data.csv', encoding='latin1')\n"
     ]
    }
   ],
   "source": [
    "df1 = pd.read_csv('data/Aviation_Data.csv', encoding='latin1')\n",
    "df2 = pd.read_csv('data/USState_Codes.csv', encoding='latin1')\n"
   ]
  },
  {
   "cell_type": "code",
   "execution_count": null,
   "id": "7bfd4bc4",
   "metadata": {},
   "outputs": [],
   "source": [
    "# data exploration"
   ]
  },
  {
   "cell_type": "code",
   "execution_count": null,
   "id": "ce0650e6",
   "metadata": {},
   "outputs": [
    {
     "name": "stdout",
     "output_type": "stream",
     "text": [
      "         Event.Id Investigation.Type Accident.Number  Event.Date  \\\n",
      "0  20001218X45444           Accident      SEA87LA080  1948-10-24   \n",
      "1  20001218X45447           Accident      LAX94LA336  1962-07-19   \n",
      "2  20061025X01555           Accident      NYC07LA005  1974-08-30   \n",
      "3  20001218X45448           Accident      LAX96LA321  1977-06-19   \n",
      "4  20041105X01764           Accident      CHI79FA064  1979-08-02   \n",
      "\n",
      "          Location        Country   Latitude  Longitude Airport.Code  \\\n",
      "0  MOOSE CREEK, ID  United States        NaN        NaN          NaN   \n",
      "1   BRIDGEPORT, CA  United States        NaN        NaN          NaN   \n",
      "2    Saltville, VA  United States  36.922223 -81.878056          NaN   \n",
      "3       EUREKA, CA  United States        NaN        NaN          NaN   \n",
      "4       Canton, OH  United States        NaN        NaN          NaN   \n",
      "\n",
      "  Airport.Name  ... Purpose.of.flight Air.carrier Total.Fatal.Injuries  \\\n",
      "0          NaN  ...          Personal         NaN                  2.0   \n",
      "1          NaN  ...          Personal         NaN                  4.0   \n",
      "2          NaN  ...          Personal         NaN                  3.0   \n",
      "3          NaN  ...          Personal         NaN                  2.0   \n",
      "4          NaN  ...          Personal         NaN                  1.0   \n",
      "\n",
      "  Total.Serious.Injuries Total.Minor.Injuries Total.Uninjured  \\\n",
      "0                    0.0                  0.0             0.0   \n",
      "1                    0.0                  0.0             0.0   \n",
      "2                    NaN                  NaN             NaN   \n",
      "3                    0.0                  0.0             0.0   \n",
      "4                    2.0                  NaN             0.0   \n",
      "\n",
      "  Weather.Condition  Broad.phase.of.flight   Report.Status Publication.Date  \n",
      "0               UNK                 Cruise  Probable Cause              NaN  \n",
      "1               UNK                Unknown  Probable Cause       19-09-1996  \n",
      "2               IMC                 Cruise  Probable Cause       26-02-2007  \n",
      "3               IMC                 Cruise  Probable Cause       12-09-2000  \n",
      "4               VMC               Approach  Probable Cause       16-04-1980  \n",
      "\n",
      "[5 rows x 31 columns]\n",
      "     US_State Abbreviation\n",
      "0     Alabama           AL\n",
      "1      Alaska           AK\n",
      "2     Arizona           AZ\n",
      "3    Arkansas           AR\n",
      "4  California           CA\n"
     ]
    }
   ],
   "source": [
    "\n",
    "\n",
    "print(df1.head())\n",
    "print(df2.head())\n"
   ]
  },
  {
   "cell_type": "code",
   "execution_count": null,
   "id": "0f1bbf0c",
   "metadata": {},
   "outputs": [],
   "source": [
    "#Merging the two data sets"
   ]
  },
  {
   "cell_type": "code",
   "execution_count": 14,
   "id": "01d4634b",
   "metadata": {},
   "outputs": [
    {
     "data": {
      "text/plain": [
       "'Aviation_Data.csv_and_USStates_Codes.csv'"
      ]
     },
     "execution_count": 14,
     "metadata": {},
     "output_type": "execute_result"
    }
   ],
   "source": [
    "('Aviation_Data.csv_and_USStates_Codes.csv')"
   ]
  },
  {
   "cell_type": "code",
   "execution_count": 58,
   "id": "73ca2ca2",
   "metadata": {},
   "outputs": [
    {
     "name": "stdout",
     "output_type": "stream",
     "text": [
      "<class 'pandas.core.frame.DataFrame'>\n",
      "RangeIndex: 88889 entries, 0 to 88888\n",
      "Data columns (total 31 columns):\n",
      " #   Column                  Non-Null Count  Dtype  \n",
      "---  ------                  --------------  -----  \n",
      " 0   Event.Id                88889 non-null  object \n",
      " 1   Investigation.Type      88889 non-null  object \n",
      " 2   Accident.Number         88889 non-null  object \n",
      " 3   Event.Date              88889 non-null  object \n",
      " 4   Location                88837 non-null  object \n",
      " 5   Country                 88663 non-null  object \n",
      " 6   Latitude                34382 non-null  object \n",
      " 7   Longitude               34373 non-null  object \n",
      " 8   Airport.Code            50132 non-null  object \n",
      " 9   Airport.Name            52704 non-null  object \n",
      " 10  Injury.Severity         87889 non-null  object \n",
      " 11  Aircraft.damage         85695 non-null  object \n",
      " 12  Aircraft.Category       32287 non-null  object \n",
      " 13  Registration.Number     87507 non-null  object \n",
      " 14  Make                    88826 non-null  object \n",
      " 15  Model                   88797 non-null  object \n",
      " 16  Amateur.Built           88787 non-null  object \n",
      " 17  Number.of.Engines       82805 non-null  float64\n",
      " 18  Engine.Type             81793 non-null  object \n",
      " 19  FAR.Description         32023 non-null  object \n",
      " 20  Schedule                12582 non-null  object \n",
      " 21  Purpose.of.flight       82697 non-null  object \n",
      " 22  Air.carrier             16648 non-null  object \n",
      " 23  Total.Fatal.Injuries    77488 non-null  float64\n",
      " 24  Total.Serious.Injuries  76379 non-null  float64\n",
      " 25  Total.Minor.Injuries    76956 non-null  float64\n",
      " 26  Total.Uninjured         82977 non-null  float64\n",
      " 27  Weather.Condition       84397 non-null  object \n",
      " 28  Broad.phase.of.flight   61724 non-null  object \n",
      " 29  Report.Status           82505 non-null  object \n",
      " 30  Publication.Date        75118 non-null  object \n",
      "dtypes: float64(5), object(26)\n",
      "memory usage: 21.0+ MB\n"
     ]
    },
    {
     "data": {
      "text/plain": [
       "(88889, 31)"
      ]
     },
     "execution_count": 58,
     "metadata": {},
     "output_type": "execute_result"
    }
   ],
   "source": [
    "df1.info()\n",
    "\n",
    "df1.shape\n"
   ]
  },
  {
   "cell_type": "code",
   "execution_count": 61,
   "id": "35469ad6",
   "metadata": {},
   "outputs": [
    {
     "name": "stdout",
     "output_type": "stream",
     "text": [
      "<class 'pandas.core.frame.DataFrame'>\n",
      "RangeIndex: 62 entries, 0 to 61\n",
      "Data columns (total 2 columns):\n",
      " #   Column        Non-Null Count  Dtype \n",
      "---  ------        --------------  ----- \n",
      " 0   US_State      62 non-null     object\n",
      " 1   Abbreviation  62 non-null     object\n",
      "dtypes: object(2)\n",
      "memory usage: 1.1+ KB\n"
     ]
    },
    {
     "data": {
      "text/plain": [
       "(62, 2)"
      ]
     },
     "execution_count": 61,
     "metadata": {},
     "output_type": "execute_result"
    }
   ],
   "source": [
    "df2.info()\n",
    "df2.shape"
   ]
  },
  {
   "cell_type": "code",
   "execution_count": null,
   "id": "41e0e7b8",
   "metadata": {},
   "outputs": [],
   "source": [
    "# dataframe numeric columns"
   ]
  },
  {
   "cell_type": "code",
   "execution_count": 56,
   "id": "d5eeb8c0",
   "metadata": {},
   "outputs": [
    {
     "data": {
      "text/html": [
       "<div>\n",
       "<style scoped>\n",
       "    .dataframe tbody tr th:only-of-type {\n",
       "        vertical-align: middle;\n",
       "    }\n",
       "\n",
       "    .dataframe tbody tr th {\n",
       "        vertical-align: top;\n",
       "    }\n",
       "\n",
       "    .dataframe thead th {\n",
       "        text-align: right;\n",
       "    }\n",
       "</style>\n",
       "<table border=\"1\" class=\"dataframe\">\n",
       "  <thead>\n",
       "    <tr style=\"text-align: right;\">\n",
       "      <th></th>\n",
       "      <th>Number.of.Engines</th>\n",
       "      <th>Total.Fatal.Injuries</th>\n",
       "      <th>Total.Serious.Injuries</th>\n",
       "      <th>Total.Minor.Injuries</th>\n",
       "      <th>Total.Uninjured</th>\n",
       "    </tr>\n",
       "  </thead>\n",
       "  <tbody>\n",
       "    <tr>\n",
       "      <th>count</th>\n",
       "      <td>82805.000000</td>\n",
       "      <td>77488.000000</td>\n",
       "      <td>76379.000000</td>\n",
       "      <td>76956.000000</td>\n",
       "      <td>82977.000000</td>\n",
       "    </tr>\n",
       "    <tr>\n",
       "      <th>mean</th>\n",
       "      <td>1.146585</td>\n",
       "      <td>0.647855</td>\n",
       "      <td>0.279881</td>\n",
       "      <td>0.357061</td>\n",
       "      <td>5.325440</td>\n",
       "    </tr>\n",
       "    <tr>\n",
       "      <th>std</th>\n",
       "      <td>0.446510</td>\n",
       "      <td>5.485960</td>\n",
       "      <td>1.544084</td>\n",
       "      <td>2.235625</td>\n",
       "      <td>27.913634</td>\n",
       "    </tr>\n",
       "    <tr>\n",
       "      <th>min</th>\n",
       "      <td>0.000000</td>\n",
       "      <td>0.000000</td>\n",
       "      <td>0.000000</td>\n",
       "      <td>0.000000</td>\n",
       "      <td>0.000000</td>\n",
       "    </tr>\n",
       "    <tr>\n",
       "      <th>25%</th>\n",
       "      <td>1.000000</td>\n",
       "      <td>0.000000</td>\n",
       "      <td>0.000000</td>\n",
       "      <td>0.000000</td>\n",
       "      <td>0.000000</td>\n",
       "    </tr>\n",
       "    <tr>\n",
       "      <th>50%</th>\n",
       "      <td>1.000000</td>\n",
       "      <td>0.000000</td>\n",
       "      <td>0.000000</td>\n",
       "      <td>0.000000</td>\n",
       "      <td>1.000000</td>\n",
       "    </tr>\n",
       "    <tr>\n",
       "      <th>75%</th>\n",
       "      <td>1.000000</td>\n",
       "      <td>0.000000</td>\n",
       "      <td>0.000000</td>\n",
       "      <td>0.000000</td>\n",
       "      <td>2.000000</td>\n",
       "    </tr>\n",
       "    <tr>\n",
       "      <th>max</th>\n",
       "      <td>8.000000</td>\n",
       "      <td>349.000000</td>\n",
       "      <td>161.000000</td>\n",
       "      <td>380.000000</td>\n",
       "      <td>699.000000</td>\n",
       "    </tr>\n",
       "  </tbody>\n",
       "</table>\n",
       "</div>"
      ],
      "text/plain": [
       "       Number.of.Engines  Total.Fatal.Injuries  Total.Serious.Injuries  \\\n",
       "count       82805.000000          77488.000000            76379.000000   \n",
       "mean            1.146585              0.647855                0.279881   \n",
       "std             0.446510              5.485960                1.544084   \n",
       "min             0.000000              0.000000                0.000000   \n",
       "25%             1.000000              0.000000                0.000000   \n",
       "50%             1.000000              0.000000                0.000000   \n",
       "75%             1.000000              0.000000                0.000000   \n",
       "max             8.000000            349.000000              161.000000   \n",
       "\n",
       "       Total.Minor.Injuries  Total.Uninjured  \n",
       "count          76956.000000     82977.000000  \n",
       "mean               0.357061         5.325440  \n",
       "std                2.235625        27.913634  \n",
       "min                0.000000         0.000000  \n",
       "25%                0.000000         0.000000  \n",
       "50%                0.000000         1.000000  \n",
       "75%                0.000000         2.000000  \n",
       "max              380.000000       699.000000  "
      ]
     },
     "execution_count": 56,
     "metadata": {},
     "output_type": "execute_result"
    }
   ],
   "source": [
    "df1.describe()\n"
   ]
  },
  {
   "cell_type": "code",
   "execution_count": 57,
   "id": "72c231eb",
   "metadata": {},
   "outputs": [
    {
     "data": {
      "text/html": [
       "<div>\n",
       "<style scoped>\n",
       "    .dataframe tbody tr th:only-of-type {\n",
       "        vertical-align: middle;\n",
       "    }\n",
       "\n",
       "    .dataframe tbody tr th {\n",
       "        vertical-align: top;\n",
       "    }\n",
       "\n",
       "    .dataframe thead th {\n",
       "        text-align: right;\n",
       "    }\n",
       "</style>\n",
       "<table border=\"1\" class=\"dataframe\">\n",
       "  <thead>\n",
       "    <tr style=\"text-align: right;\">\n",
       "      <th></th>\n",
       "      <th>US_State</th>\n",
       "      <th>Abbreviation</th>\n",
       "    </tr>\n",
       "  </thead>\n",
       "  <tbody>\n",
       "    <tr>\n",
       "      <th>count</th>\n",
       "      <td>62</td>\n",
       "      <td>62</td>\n",
       "    </tr>\n",
       "    <tr>\n",
       "      <th>unique</th>\n",
       "      <td>62</td>\n",
       "      <td>62</td>\n",
       "    </tr>\n",
       "    <tr>\n",
       "      <th>top</th>\n",
       "      <td>Alabama</td>\n",
       "      <td>AL</td>\n",
       "    </tr>\n",
       "    <tr>\n",
       "      <th>freq</th>\n",
       "      <td>1</td>\n",
       "      <td>1</td>\n",
       "    </tr>\n",
       "  </tbody>\n",
       "</table>\n",
       "</div>"
      ],
      "text/plain": [
       "       US_State Abbreviation\n",
       "count        62           62\n",
       "unique       62           62\n",
       "top     Alabama           AL\n",
       "freq          1            1"
      ]
     },
     "execution_count": 57,
     "metadata": {},
     "output_type": "execute_result"
    }
   ],
   "source": [
    "df2.describe()"
   ]
  },
  {
   "cell_type": "markdown",
   "id": "71a6bc7b",
   "metadata": {},
   "source": [
    "# 3.data cleaning"
   ]
  },
  {
   "cell_type": "markdown",
   "id": "fe9bf302",
   "metadata": {},
   "source": [
    "Identify Missing Data\n",
    "\n",
    "Drop Irrelevant Columns\n",
    "\n",
    "Standardise the data for Analysis"
   ]
  },
  {
   "cell_type": "code",
   "execution_count": 66,
   "id": "bcab2f9d",
   "metadata": {},
   "outputs": [],
   "source": [
    "df2 = df2.drop_duplicates()"
   ]
  },
  {
   "cell_type": "code",
   "execution_count": 62,
   "id": "05560f1c",
   "metadata": {},
   "outputs": [
    {
     "data": {
      "text/plain": [
       "Event.Id                      0\n",
       "Investigation.Type            0\n",
       "Accident.Number               0\n",
       "Event.Date                    0\n",
       "Location                     52\n",
       "Country                     226\n",
       "Latitude                  54507\n",
       "Longitude                 54516\n",
       "Airport.Code              38757\n",
       "Airport.Name              36185\n",
       "Injury.Severity            1000\n",
       "Aircraft.damage            3194\n",
       "Aircraft.Category         56602\n",
       "Registration.Number        1382\n",
       "Make                         63\n",
       "Model                        92\n",
       "Amateur.Built               102\n",
       "Number.of.Engines          6084\n",
       "Engine.Type                7096\n",
       "FAR.Description           56866\n",
       "Schedule                  76307\n",
       "Purpose.of.flight          6192\n",
       "Air.carrier               72241\n",
       "Total.Fatal.Injuries      11401\n",
       "Total.Serious.Injuries    12510\n",
       "Total.Minor.Injuries      11933\n",
       "Total.Uninjured            5912\n",
       "Weather.Condition          4492\n",
       "Broad.phase.of.flight     27165\n",
       "Report.Status              6384\n",
       "Publication.Date          13771\n",
       "dtype: int64"
      ]
     },
     "execution_count": 62,
     "metadata": {},
     "output_type": "execute_result"
    }
   ],
   "source": [
    "# number of null values in each column\n",
    "df1.isnull().sum()"
   ]
  },
  {
   "cell_type": "code",
   "execution_count": 63,
   "id": "e99682b8",
   "metadata": {},
   "outputs": [
    {
     "data": {
      "text/plain": [
       "US_State        0\n",
       "Abbreviation    0\n",
       "dtype: int64"
      ]
     },
     "execution_count": 63,
     "metadata": {},
     "output_type": "execute_result"
    }
   ],
   "source": [
    "df2.isnull().sum()"
   ]
  },
  {
   "cell_type": "code",
   "execution_count": 72,
   "id": "7f2113b1",
   "metadata": {},
   "outputs": [
    {
     "name": "stdout",
     "output_type": "stream",
     "text": [
      "Location                   0.058500\n",
      "Country                    0.254250\n",
      "Latitude                  61.320298\n",
      "Longitude                 61.330423\n",
      "Airport.Code              43.601570\n",
      "Airport.Name              40.708074\n",
      "Injury.Severity            1.124999\n",
      "Aircraft.damage            3.593246\n",
      "Aircraft.Category         63.677170\n",
      "Registration.Number        1.554748\n",
      "Make                       0.070875\n",
      "Model                      0.103500\n",
      "Amateur.Built              0.114750\n",
      "Number.of.Engines          6.844491\n",
      "Engine.Type                7.982990\n",
      "FAR.Description           63.974170\n",
      "Schedule                  85.845268\n",
      "Purpose.of.flight          6.965991\n",
      "Air.carrier               81.271023\n",
      "Total.Fatal.Injuries      12.826109\n",
      "Total.Serious.Injuries    14.073732\n",
      "Total.Minor.Injuries      13.424608\n",
      "Total.Uninjured            6.650992\n",
      "Weather.Condition          5.053494\n",
      "Broad.phase.of.flight     30.560587\n",
      "Report.Status              7.181991\n",
      "Publication.Date          15.492356\n",
      "dtype: float64\n"
     ]
    }
   ],
   "source": [
    "# percentage of columns with missing values\n",
    "missing_percentage = df1.isnull().mean() * 100\n",
    "missing_percentage = missing_percentage[missing_percentage > 0]\n",
    "print(missing_percentage)"
   ]
  },
  {
   "cell_type": "code",
   "execution_count": null,
   "id": "aaee3d39",
   "metadata": {},
   "outputs": [],
   "source": [
    "# # 4.Cleaning the data"
   ]
  },
  {
   "cell_type": "code",
   "execution_count": 19,
   "id": "0b8f2353",
   "metadata": {},
   "outputs": [],
   "source": [
    "threshold = 30"
   ]
  },
  {
   "cell_type": "code",
   "execution_count": 26,
   "id": "d4235261",
   "metadata": {},
   "outputs": [
    {
     "ename": "NameError",
     "evalue": "name 'df' is not defined",
     "output_type": "error",
     "traceback": [
      "\u001b[1;31m---------------------------------------------------------------------------\u001b[0m",
      "\u001b[1;31mNameError\u001b[0m                                 Traceback (most recent call last)",
      "Cell \u001b[1;32mIn[26], line 1\u001b[0m\n\u001b[1;32m----> 1\u001b[0m df_cleaned \u001b[38;5;241m=\u001b[39m df\u001b[38;5;241m.\u001b[39mdrop(columns\u001b[38;5;241m=\u001b[39mcolumns_to_drop)\n\u001b[0;32m      2\u001b[0m aviation_data_final \u001b[38;5;241m=\u001b[39m df_cleaned\n",
      "\u001b[1;31mNameError\u001b[0m: name 'df' is not defined"
     ]
    }
   ],
   "source": [
    "df_cleaned = df.drop(columns=columns_to_drop)\n",
    "aviation_data_final = df_cleaned"
   ]
  },
  {
   "cell_type": "code",
   "execution_count": 98,
   "id": "1e9f379f",
   "metadata": {},
   "outputs": [
    {
     "data": {
      "text/html": [
       "<div>\n",
       "<style scoped>\n",
       "    .dataframe tbody tr th:only-of-type {\n",
       "        vertical-align: middle;\n",
       "    }\n",
       "\n",
       "    .dataframe tbody tr th {\n",
       "        vertical-align: top;\n",
       "    }\n",
       "\n",
       "    .dataframe thead th {\n",
       "        text-align: right;\n",
       "    }\n",
       "</style>\n",
       "<table border=\"1\" class=\"dataframe\">\n",
       "  <thead>\n",
       "    <tr style=\"text-align: right;\">\n",
       "      <th></th>\n",
       "      <th>Event.Id</th>\n",
       "      <th>Investigation.Type</th>\n",
       "      <th>Accident.Number</th>\n",
       "      <th>Event.Date</th>\n",
       "      <th>Location</th>\n",
       "      <th>Country</th>\n",
       "      <th>Latitude</th>\n",
       "      <th>Longitude</th>\n",
       "      <th>Airport.Code</th>\n",
       "      <th>Airport.Name</th>\n",
       "      <th>...</th>\n",
       "      <th>Purpose.of.flight</th>\n",
       "      <th>Air.carrier</th>\n",
       "      <th>Total.Fatal.Injuries</th>\n",
       "      <th>Total.Serious.Injuries</th>\n",
       "      <th>Total.Minor.Injuries</th>\n",
       "      <th>Total.Uninjured</th>\n",
       "      <th>Weather.Condition</th>\n",
       "      <th>Broad.phase.of.flight</th>\n",
       "      <th>Report.Status</th>\n",
       "      <th>Publication.Date</th>\n",
       "    </tr>\n",
       "  </thead>\n",
       "  <tbody>\n",
       "    <tr>\n",
       "      <th>0</th>\n",
       "      <td>20001218X45444</td>\n",
       "      <td>Accident</td>\n",
       "      <td>SEA87LA080</td>\n",
       "      <td>1948-10-24</td>\n",
       "      <td>MOOSE CREEK, ID</td>\n",
       "      <td>United States</td>\n",
       "      <td>NaN</td>\n",
       "      <td>NaN</td>\n",
       "      <td>NaN</td>\n",
       "      <td>NaN</td>\n",
       "      <td>...</td>\n",
       "      <td>Personal</td>\n",
       "      <td>NaN</td>\n",
       "      <td>2.0</td>\n",
       "      <td>0.0</td>\n",
       "      <td>0.0</td>\n",
       "      <td>0.0</td>\n",
       "      <td>UNK</td>\n",
       "      <td>Cruise</td>\n",
       "      <td>Probable Cause</td>\n",
       "      <td>NaN</td>\n",
       "    </tr>\n",
       "    <tr>\n",
       "      <th>1</th>\n",
       "      <td>20001218X45447</td>\n",
       "      <td>Accident</td>\n",
       "      <td>LAX94LA336</td>\n",
       "      <td>1962-07-19</td>\n",
       "      <td>BRIDGEPORT, CA</td>\n",
       "      <td>United States</td>\n",
       "      <td>NaN</td>\n",
       "      <td>NaN</td>\n",
       "      <td>NaN</td>\n",
       "      <td>NaN</td>\n",
       "      <td>...</td>\n",
       "      <td>Personal</td>\n",
       "      <td>NaN</td>\n",
       "      <td>4.0</td>\n",
       "      <td>0.0</td>\n",
       "      <td>0.0</td>\n",
       "      <td>0.0</td>\n",
       "      <td>UNK</td>\n",
       "      <td>Unknown</td>\n",
       "      <td>Probable Cause</td>\n",
       "      <td>19-09-1996</td>\n",
       "    </tr>\n",
       "    <tr>\n",
       "      <th>2</th>\n",
       "      <td>20061025X01555</td>\n",
       "      <td>Accident</td>\n",
       "      <td>NYC07LA005</td>\n",
       "      <td>1974-08-30</td>\n",
       "      <td>Saltville, VA</td>\n",
       "      <td>United States</td>\n",
       "      <td>36.922223</td>\n",
       "      <td>-81.878056</td>\n",
       "      <td>NaN</td>\n",
       "      <td>NaN</td>\n",
       "      <td>...</td>\n",
       "      <td>Personal</td>\n",
       "      <td>NaN</td>\n",
       "      <td>3.0</td>\n",
       "      <td>NaN</td>\n",
       "      <td>NaN</td>\n",
       "      <td>NaN</td>\n",
       "      <td>IMC</td>\n",
       "      <td>Cruise</td>\n",
       "      <td>Probable Cause</td>\n",
       "      <td>26-02-2007</td>\n",
       "    </tr>\n",
       "    <tr>\n",
       "      <th>3</th>\n",
       "      <td>20001218X45448</td>\n",
       "      <td>Accident</td>\n",
       "      <td>LAX96LA321</td>\n",
       "      <td>1977-06-19</td>\n",
       "      <td>EUREKA, CA</td>\n",
       "      <td>United States</td>\n",
       "      <td>NaN</td>\n",
       "      <td>NaN</td>\n",
       "      <td>NaN</td>\n",
       "      <td>NaN</td>\n",
       "      <td>...</td>\n",
       "      <td>Personal</td>\n",
       "      <td>NaN</td>\n",
       "      <td>2.0</td>\n",
       "      <td>0.0</td>\n",
       "      <td>0.0</td>\n",
       "      <td>0.0</td>\n",
       "      <td>IMC</td>\n",
       "      <td>Cruise</td>\n",
       "      <td>Probable Cause</td>\n",
       "      <td>12-09-2000</td>\n",
       "    </tr>\n",
       "    <tr>\n",
       "      <th>4</th>\n",
       "      <td>20041105X01764</td>\n",
       "      <td>Accident</td>\n",
       "      <td>CHI79FA064</td>\n",
       "      <td>1979-08-02</td>\n",
       "      <td>Canton, OH</td>\n",
       "      <td>United States</td>\n",
       "      <td>NaN</td>\n",
       "      <td>NaN</td>\n",
       "      <td>NaN</td>\n",
       "      <td>NaN</td>\n",
       "      <td>...</td>\n",
       "      <td>Personal</td>\n",
       "      <td>NaN</td>\n",
       "      <td>1.0</td>\n",
       "      <td>2.0</td>\n",
       "      <td>NaN</td>\n",
       "      <td>0.0</td>\n",
       "      <td>VMC</td>\n",
       "      <td>Approach</td>\n",
       "      <td>Probable Cause</td>\n",
       "      <td>16-04-1980</td>\n",
       "    </tr>\n",
       "  </tbody>\n",
       "</table>\n",
       "<p>5 rows × 31 columns</p>\n",
       "</div>"
      ],
      "text/plain": [
       "         Event.Id Investigation.Type Accident.Number  Event.Date  \\\n",
       "0  20001218X45444           Accident      SEA87LA080  1948-10-24   \n",
       "1  20001218X45447           Accident      LAX94LA336  1962-07-19   \n",
       "2  20061025X01555           Accident      NYC07LA005  1974-08-30   \n",
       "3  20001218X45448           Accident      LAX96LA321  1977-06-19   \n",
       "4  20041105X01764           Accident      CHI79FA064  1979-08-02   \n",
       "\n",
       "          Location        Country   Latitude  Longitude Airport.Code  \\\n",
       "0  MOOSE CREEK, ID  United States        NaN        NaN          NaN   \n",
       "1   BRIDGEPORT, CA  United States        NaN        NaN          NaN   \n",
       "2    Saltville, VA  United States  36.922223 -81.878056          NaN   \n",
       "3       EUREKA, CA  United States        NaN        NaN          NaN   \n",
       "4       Canton, OH  United States        NaN        NaN          NaN   \n",
       "\n",
       "  Airport.Name  ... Purpose.of.flight Air.carrier Total.Fatal.Injuries  \\\n",
       "0          NaN  ...          Personal         NaN                  2.0   \n",
       "1          NaN  ...          Personal         NaN                  4.0   \n",
       "2          NaN  ...          Personal         NaN                  3.0   \n",
       "3          NaN  ...          Personal         NaN                  2.0   \n",
       "4          NaN  ...          Personal         NaN                  1.0   \n",
       "\n",
       "  Total.Serious.Injuries Total.Minor.Injuries Total.Uninjured  \\\n",
       "0                    0.0                  0.0             0.0   \n",
       "1                    0.0                  0.0             0.0   \n",
       "2                    NaN                  NaN             NaN   \n",
       "3                    0.0                  0.0             0.0   \n",
       "4                    2.0                  NaN             0.0   \n",
       "\n",
       "  Weather.Condition  Broad.phase.of.flight   Report.Status Publication.Date  \n",
       "0               UNK                 Cruise  Probable Cause              NaN  \n",
       "1               UNK                Unknown  Probable Cause       19-09-1996  \n",
       "2               IMC                 Cruise  Probable Cause       26-02-2007  \n",
       "3               IMC                 Cruise  Probable Cause       12-09-2000  \n",
       "4               VMC               Approach  Probable Cause       16-04-1980  \n",
       "\n",
       "[5 rows x 31 columns]"
      ]
     },
     "execution_count": 98,
     "metadata": {},
     "output_type": "execute_result"
    }
   ],
   "source": [
    "df1.head()"
   ]
  },
  {
   "cell_type": "code",
   "execution_count": null,
   "id": "6cace962",
   "metadata": {},
   "outputs": [],
   "source": [
    "# analyzing safest aircraft model"
   ]
  },
  {
   "cell_type": "markdown",
   "id": "5cd0ff47",
   "metadata": {},
   "source": [
    "Idenntify trends, Which aircraft models/types have the fewest accidents?\n",
    "Compare accident rates over time.\n",
    "Analyze the severity of incidents by aircraft type."
   ]
  },
  {
   "cell_type": "code",
   "execution_count": null,
   "id": "d742a92e",
   "metadata": {},
   "outputs": [],
   "source": []
  },
  {
   "cell_type": "code",
   "execution_count": null,
   "id": "e725fbac",
   "metadata": {},
   "outputs": [],
   "source": [
    "# Analyzing safest aircraft model"
   ]
  },
  {
   "cell_type": "markdown",
   "id": "67795f39",
   "metadata": {},
   "source": [
    "Fatal accidents (highest risk)\n",
    "No injuries , good\n",
    "Minor injuries\n",
    "Serious injuries\n",
    "\n",
    "\n"
   ]
  },
  {
   "cell_type": "markdown",
   "id": "82bd8c58",
   "metadata": {},
   "source": [
    "aviation_data_final = df_cleaned\n",
    "aviation_data_final['Injury.Severity'].value_counts()"
   ]
  },
  {
   "cell_type": "code",
   "execution_count": 99,
   "id": "58962114",
   "metadata": {},
   "outputs": [
    {
     "data": {
      "text/plain": [
       "Injury.Severity\n",
       "Non-Fatal     67357\n",
       "Fatal(1)       6167\n",
       "Fatal          5262\n",
       "Fatal(2)       3711\n",
       "Incident       2219\n",
       "              ...  \n",
       "Fatal(270)        1\n",
       "Fatal(60)         1\n",
       "Fatal(43)         1\n",
       "Fatal(143)        1\n",
       "Fatal(230)        1\n",
       "Name: count, Length: 109, dtype: int64"
      ]
     },
     "execution_count": 99,
     "metadata": {},
     "output_type": "execute_result"
    }
   ],
   "source": [
    "aviation_data_final = df_cleaned\n",
    "aviation_data_final['Injury.Severity'].value_counts()"
   ]
  },
  {
   "cell_type": "code",
   "execution_count": 100,
   "id": "4e825e4a",
   "metadata": {},
   "outputs": [],
   "source": [
    "aviation_data_final['Fatal_Accident'] = aviation_data_final['Injury.Severity'].apply(lambda x: 1 if x == 'Fatal' else 0)\n",
    "aviation_data_final['Serious_Accident'] = aviation_data_final['Injury.Severity'].apply(lambda x: 1 if x == 'Serious' else 0)"
   ]
  },
  {
   "cell_type": "code",
   "execution_count": 106,
   "id": "1c20544b",
   "metadata": {},
   "outputs": [
    {
     "data": {
      "text/html": [
       "<div>\n",
       "<style scoped>\n",
       "    .dataframe tbody tr th:only-of-type {\n",
       "        vertical-align: middle;\n",
       "    }\n",
       "\n",
       "    .dataframe tbody tr th {\n",
       "        vertical-align: top;\n",
       "    }\n",
       "\n",
       "    .dataframe thead th {\n",
       "        text-align: right;\n",
       "    }\n",
       "</style>\n",
       "<table border=\"1\" class=\"dataframe\">\n",
       "  <thead>\n",
       "    <tr style=\"text-align: right;\">\n",
       "      <th></th>\n",
       "      <th>Make</th>\n",
       "      <th>Model</th>\n",
       "      <th>Fatal_Accident</th>\n",
       "      <th>Serious_Accident</th>\n",
       "      <th>Total_Accidents</th>\n",
       "    </tr>\n",
       "  </thead>\n",
       "  <tbody>\n",
       "    <tr>\n",
       "      <th>5745</th>\n",
       "      <td>Cessna</td>\n",
       "      <td>152</td>\n",
       "      <td>2</td>\n",
       "      <td>0</td>\n",
       "      <td>2168</td>\n",
       "    </tr>\n",
       "    <tr>\n",
       "      <th>5767</th>\n",
       "      <td>Cessna</td>\n",
       "      <td>172</td>\n",
       "      <td>26</td>\n",
       "      <td>0</td>\n",
       "      <td>1253</td>\n",
       "    </tr>\n",
       "    <tr>\n",
       "      <th>5811</th>\n",
       "      <td>Cessna</td>\n",
       "      <td>172N</td>\n",
       "      <td>1</td>\n",
       "      <td>0</td>\n",
       "      <td>996</td>\n",
       "    </tr>\n",
       "    <tr>\n",
       "      <th>15079</th>\n",
       "      <td>Piper</td>\n",
       "      <td>PA-28-140</td>\n",
       "      <td>1</td>\n",
       "      <td>0</td>\n",
       "      <td>812</td>\n",
       "    </tr>\n",
       "    <tr>\n",
       "      <th>5720</th>\n",
       "      <td>Cessna</td>\n",
       "      <td>150</td>\n",
       "      <td>10</td>\n",
       "      <td>0</td>\n",
       "      <td>715</td>\n",
       "    </tr>\n",
       "    <tr>\n",
       "      <th>5809</th>\n",
       "      <td>Cessna</td>\n",
       "      <td>172M</td>\n",
       "      <td>1</td>\n",
       "      <td>0</td>\n",
       "      <td>667</td>\n",
       "    </tr>\n",
       "    <tr>\n",
       "      <th>5814</th>\n",
       "      <td>Cessna</td>\n",
       "      <td>172P</td>\n",
       "      <td>0</td>\n",
       "      <td>0</td>\n",
       "      <td>597</td>\n",
       "    </tr>\n",
       "    <tr>\n",
       "      <th>14973</th>\n",
       "      <td>Piper</td>\n",
       "      <td>PA-18</td>\n",
       "      <td>1</td>\n",
       "      <td>0</td>\n",
       "      <td>539</td>\n",
       "    </tr>\n",
       "    <tr>\n",
       "      <th>5744</th>\n",
       "      <td>Cessna</td>\n",
       "      <td>150M</td>\n",
       "      <td>0</td>\n",
       "      <td>0</td>\n",
       "      <td>539</td>\n",
       "    </tr>\n",
       "    <tr>\n",
       "      <th>15088</th>\n",
       "      <td>Piper</td>\n",
       "      <td>PA-28-161</td>\n",
       "      <td>0</td>\n",
       "      <td>0</td>\n",
       "      <td>502</td>\n",
       "    </tr>\n",
       "  </tbody>\n",
       "</table>\n",
       "</div>"
      ],
      "text/plain": [
       "         Make      Model  Fatal_Accident  Serious_Accident  Total_Accidents\n",
       "5745   Cessna        152               2                 0             2168\n",
       "5767   Cessna        172              26                 0             1253\n",
       "5811   Cessna       172N               1                 0              996\n",
       "15079   Piper  PA-28-140               1                 0              812\n",
       "5720   Cessna        150              10                 0              715\n",
       "5809   Cessna       172M               1                 0              667\n",
       "5814   Cessna       172P               0                 0              597\n",
       "14973   Piper      PA-18               1                 0              539\n",
       "5744   Cessna       150M               0                 0              539\n",
       "15088   Piper  PA-28-161               0                 0              502"
      ]
     },
     "execution_count": 106,
     "metadata": {},
     "output_type": "execute_result"
    }
   ],
   "source": [
    "# by make and model\n",
    "grouped = aviation_data_final.groupby(['Make', 'Model']).agg(Fatal_Accident=('Fatal_Accident', 'sum'), Serious_Accident=('Serious_Accident', 'sum'), Total_Accidents=('Injury.Severity', 'count')).reset_index()\n",
    "grouped.sort_values(by='Total_Accidents', ascending=False).head(10)\n"
   ]
  },
  {
   "cell_type": "code",
   "execution_count": 107,
   "id": "80615489",
   "metadata": {},
   "outputs": [
    {
     "data": {
      "text/html": [
       "<div>\n",
       "<style scoped>\n",
       "    .dataframe tbody tr th:only-of-type {\n",
       "        vertical-align: middle;\n",
       "    }\n",
       "\n",
       "    .dataframe tbody tr th {\n",
       "        vertical-align: top;\n",
       "    }\n",
       "\n",
       "    .dataframe thead th {\n",
       "        text-align: right;\n",
       "    }\n",
       "</style>\n",
       "<table border=\"1\" class=\"dataframe\">\n",
       "  <thead>\n",
       "    <tr style=\"text-align: right;\">\n",
       "      <th></th>\n",
       "      <th>Make</th>\n",
       "      <th>Model</th>\n",
       "      <th>Fatal_Accident</th>\n",
       "      <th>Serious_Accident</th>\n",
       "      <th>Total_Accidents</th>\n",
       "    </tr>\n",
       "  </thead>\n",
       "  <tbody>\n",
       "    <tr>\n",
       "      <th>258</th>\n",
       "      <td>AIR TRACTOR INC</td>\n",
       "      <td>AT 802</td>\n",
       "      <td>0</td>\n",
       "      <td>0</td>\n",
       "      <td>10</td>\n",
       "    </tr>\n",
       "    <tr>\n",
       "      <th>712</th>\n",
       "      <td>Aero Commander</td>\n",
       "      <td>200D</td>\n",
       "      <td>0</td>\n",
       "      <td>0</td>\n",
       "      <td>10</td>\n",
       "    </tr>\n",
       "    <tr>\n",
       "      <th>733</th>\n",
       "      <td>Aero Commander</td>\n",
       "      <td>680</td>\n",
       "      <td>0</td>\n",
       "      <td>0</td>\n",
       "      <td>10</td>\n",
       "    </tr>\n",
       "    <tr>\n",
       "      <th>741</th>\n",
       "      <td>Aero Commander</td>\n",
       "      <td>680FL</td>\n",
       "      <td>0</td>\n",
       "      <td>0</td>\n",
       "      <td>10</td>\n",
       "    </tr>\n",
       "    <tr>\n",
       "      <th>946</th>\n",
       "      <td>Aerospatiale</td>\n",
       "      <td>AS-350B</td>\n",
       "      <td>0</td>\n",
       "      <td>0</td>\n",
       "      <td>10</td>\n",
       "    </tr>\n",
       "    <tr>\n",
       "      <th>1007</th>\n",
       "      <td>Aerospatiale</td>\n",
       "      <td>SA-315B</td>\n",
       "      <td>0</td>\n",
       "      <td>0</td>\n",
       "      <td>10</td>\n",
       "    </tr>\n",
       "    <tr>\n",
       "      <th>1066</th>\n",
       "      <td>Aerostar</td>\n",
       "      <td>RX-8</td>\n",
       "      <td>0</td>\n",
       "      <td>0</td>\n",
       "      <td>10</td>\n",
       "    </tr>\n",
       "    <tr>\n",
       "      <th>1211</th>\n",
       "      <td>Air Tractor</td>\n",
       "      <td>AT-400A</td>\n",
       "      <td>0</td>\n",
       "      <td>0</td>\n",
       "      <td>10</td>\n",
       "    </tr>\n",
       "    <tr>\n",
       "      <th>1216</th>\n",
       "      <td>Air Tractor</td>\n",
       "      <td>AT-402A</td>\n",
       "      <td>0</td>\n",
       "      <td>0</td>\n",
       "      <td>10</td>\n",
       "    </tr>\n",
       "    <tr>\n",
       "      <th>2145</th>\n",
       "      <td>BELL</td>\n",
       "      <td>47D1</td>\n",
       "      <td>0</td>\n",
       "      <td>0</td>\n",
       "      <td>10</td>\n",
       "    </tr>\n",
       "  </tbody>\n",
       "</table>\n",
       "</div>"
      ],
      "text/plain": [
       "                 Make    Model  Fatal_Accident  Serious_Accident  \\\n",
       "258   AIR TRACTOR INC   AT 802               0                 0   \n",
       "712    Aero Commander     200D               0                 0   \n",
       "733    Aero Commander      680               0                 0   \n",
       "741    Aero Commander    680FL               0                 0   \n",
       "946      Aerospatiale  AS-350B               0                 0   \n",
       "1007     Aerospatiale  SA-315B               0                 0   \n",
       "1066         Aerostar     RX-8               0                 0   \n",
       "1211      Air Tractor  AT-400A               0                 0   \n",
       "1216      Air Tractor  AT-402A               0                 0   \n",
       "2145             BELL     47D1               0                 0   \n",
       "\n",
       "      Total_Accidents  \n",
       "258                10  \n",
       "712                10  \n",
       "733                10  \n",
       "741                10  \n",
       "946                10  \n",
       "1007               10  \n",
       "1066               10  \n",
       "1211               10  \n",
       "1216               10  \n",
       "2145               10  "
      ]
     },
     "execution_count": 107,
     "metadata": {},
     "output_type": "execute_result"
    }
   ],
   "source": [
    "# safest aircraft\n",
    "filtered = grouped[grouped['Total_Accidents'] >= 10]\n",
    "safest_aircraft = filtered.sort_values(by=['Fatal_Accident', 'Serious_Accident', 'Total_Accidents'])\n",
    "safest_aircraft.head(10)"
   ]
  },
  {
   "cell_type": "markdown",
   "id": "ad1d9b49",
   "metadata": {},
   "source": [
    "# 5. Visualize Key Insights"
   ]
  },
  {
   "cell_type": "code",
   "execution_count": 108,
   "id": "98f59612",
   "metadata": {},
   "outputs": [],
   "source": [
    "import matplotlib.pyplot as plt"
   ]
  },
  {
   "cell_type": "markdown",
   "id": "66475cb1",
   "metadata": {},
   "source": [
    "# Create simple, focused  bar graphs "
   ]
  },
  {
   "cell_type": "code",
   "execution_count": null,
   "id": "242e41fa",
   "metadata": {},
   "outputs": [],
   "source": [
    "# top 10 safest aircrafts\n",
    "top_10_safest = safest_aircraft.head(10)\n"
   ]
  },
  {
   "cell_type": "code",
   "execution_count": 30,
   "id": "fe0c6006",
   "metadata": {},
   "outputs": [
    {
     "ename": "NameError",
     "evalue": "name 'Aviation_Data' is not defined",
     "output_type": "error",
     "traceback": [
      "\u001b[1;31m---------------------------------------------------------------------------\u001b[0m",
      "\u001b[1;31mNameError\u001b[0m                                 Traceback (most recent call last)",
      "Cell \u001b[1;32mIn[30], line 1\u001b[0m\n\u001b[1;32m----> 1\u001b[0m Aviation_Data\u001b[38;5;241m.\u001b[39mcolumns\n",
      "\u001b[1;31mNameError\u001b[0m: name 'Aviation_Data' is not defined"
     ]
    }
   ],
   "source": [
    "Aviation_Data.columns"
   ]
  },
  {
   "cell_type": "code",
   "execution_count": 28,
   "id": "beaa9805",
   "metadata": {},
   "outputs": [
    {
     "ename": "NameError",
     "evalue": "name 'top_10_safest' is not defined",
     "output_type": "error",
     "traceback": [
      "\u001b[1;31m---------------------------------------------------------------------------\u001b[0m",
      "\u001b[1;31mNameError\u001b[0m                                 Traceback (most recent call last)",
      "Cell \u001b[1;32mIn[28], line 2\u001b[0m\n\u001b[0;32m      1\u001b[0m plt\u001b[38;5;241m.\u001b[39mfigure(figsize\u001b[38;5;241m=\u001b[39m(\u001b[38;5;241m12\u001b[39m,\u001b[38;5;241m6\u001b[39m))\n\u001b[1;32m----> 2\u001b[0m plt\u001b[38;5;241m.\u001b[39mbarh(top_10_safest[\u001b[38;5;124m'\u001b[39m\u001b[38;5;124mMake\u001b[39m\u001b[38;5;124m'\u001b[39m] \u001b[38;5;241m+\u001b[39m \u001b[38;5;124m'\u001b[39m\u001b[38;5;124m \u001b[39m\u001b[38;5;124m'\u001b[39m \u001b[38;5;241m+\u001b[39m top_10_safest[\u001b[38;5;124m'\u001b[39m\u001b[38;5;124mModel\u001b[39m\u001b[38;5;124m'\u001b[39m], top_10_safest[\u001b[38;5;124m'\u001b[39m\u001b[38;5;124mFatal_Accident\u001b[39m\u001b[38;5;124m'\u001b[39m], color\u001b[38;5;241m=\u001b[39m\u001b[38;5;124m'\u001b[39m\u001b[38;5;124mblue\u001b[39m\u001b[38;5;124m'\u001b[39m)\n\u001b[0;32m      3\u001b[0m plt\u001b[38;5;241m.\u001b[39mxlabel(\u001b[38;5;124m'\u001b[39m\u001b[38;5;124mNumber of Fatal Accidents\u001b[39m\u001b[38;5;124m'\u001b[39m)\n\u001b[0;32m      4\u001b[0m plt\u001b[38;5;241m.\u001b[39mtitle(\u001b[38;5;124m'\u001b[39m\u001b[38;5;124mTop 10 Safest Aircraft Models (based on fatal accidents)\u001b[39m\u001b[38;5;124m'\u001b[39m)\n",
      "\u001b[1;31mNameError\u001b[0m: name 'top_10_safest' is not defined"
     ]
    },
    {
     "data": {
      "text/plain": [
       "<Figure size 1200x600 with 0 Axes>"
      ]
     },
     "metadata": {},
     "output_type": "display_data"
    }
   ],
   "source": [
    "plt.figure(figsize=(12,6))\n",
    "plt.barh(top_10_safest['Make'] + ' ' + top_10_safest['Model'], top_10_safest['Fatal_Accident'], color='blue')\n",
    "plt.xlabel('Number of Fatal Accidents')\n",
    "plt.title('Top 10 Safest Aircraft Models (based on fatal accidents)')\n",
    "plt.gca().invert_yaxis() \n",
    "plt.show()\n",
    "\n"
   ]
  },
  {
   "cell_type": "markdown",
   "id": "0b6a9f24",
   "metadata": {},
   "source": [
    "# 6. Business Recommendations"
   ]
  },
  {
   "cell_type": "code",
   "execution_count": null,
   "id": "822f0ae1",
   "metadata": {},
   "outputs": [],
   "source": [
    "# recommendation 1\n"
   ]
  },
  {
   "cell_type": "markdown",
   "id": "094c1120",
   "metadata": {},
   "source": [
    "Our analysis of aviation accidents from 1962–2023 shows that certain aircraft makes and models have consistently experienced zero fatal accidents and very few serious injuries despite having a significant number of flights.\n",
    " Prioritize purchasing aircraft such as [Example: Cessna 172], [Example: Piper PA-28], and [Example: Beechcraft Bonanza], which ranked in the Top 3 safest models according to historical data\n",
    " This reduces the company’s exposure to catastrophic risks and builds a reputation for safety in both commercial and private aviation operations."
   ]
  },
  {
   "cell_type": "markdown",
   "id": "36f5af4a",
   "metadata": {},
   "source": [
    "# Suggest the three safest/lowest-risk aircraft based on the findings\n",
    "\n",
    "    Small to mid-size general aviation aircraft (commonly used for training, leisure, and small charters) tend to have lower fatal accident rates compared to large commercial jets or experimental aircraft.\n",
    "\n",
    "    Action:\n",
    "    ✅ Start the aviation portfolio by operating small general aviation aircraft (4- to 8-seat planes) for charter services, private rentals, or flight schools.\n",
    "\n",
    "    Benefit:\n",
    "    Lower risk, easier regulatory compliance, and reduced initial investment costs, while building operational experience before scaling into larger commercial aircraft.\n",
    "\n",
    " # Provide recommendations for purchase strategy\n",
    " Prioritize Low-Risk Aircraft Models with No Fatal History\n",
    "\n",
    "Insight:\n",
    "From analysis of 1962–2023 accident data, several aircraft models (e.g., [Insert Top 3 Models]) show zero fatal accidents even across a significant number of incidents.\n",
    "\n",
    "Action:\n",
    "Begin fleet acquisition by targeting aircraft models that:\n",
    "\n",
    "    Have zero historical fatal accidents.\n",
    "\n",
    "    Have minimal serious injuries.\n",
    "\n",
    "    Have more than 10 recorded incidents (ensuring sufficient reliability).\n",
    "\n",
    "    Example aircraft models identified: [Example 1], [Example 2], [Example 3].\n",
    "    \n"
   ]
  },
  {
   "cell_type": "markdown",
   "id": "f4d219c7",
   "metadata": {},
   "source": [
    "Recommendation 2: Focus on Aircraft Operating Primarily in Good Weather and Routine Phases\n",
    "\n",
    "Insight:\n",
    "Accidents are statistically lower risk when:\n",
    "\n",
    "    Occurring during approach, landing, or taxiing (rather than cruise or takeoff).\n",
    "\n",
    "    Under Visual Meteorological Conditions (VMC = good weather).\n",
    "\n",
    "Action:\n",
    "Select aircraft that are certified and proven for:\n",
    "\n",
    "    Daylight VMC operations.\n",
    "\n",
    "    Short-range, routine commercial flights where weather unpredictability is minimized.\n",
    "\n",
    "This will naturally align the business with historically safer operations."
   ]
  },
  {
   "cell_type": "markdown",
   "id": "0ecb9ac0",
   "metadata": {},
   "source": [
    "Recommendation 3: Implement Strict Maintenance and Pilot Training Programs on Acquired Models\n",
    "\n",
    "Insight:\n",
    "Most accidents (even non-fatal) are linked to:\n",
    "\n",
    "    Mechanical failure due to poor maintenance.\n",
    "\n",
    "    Pilot error especially during critical flight phases.\n",
    "\n",
    "Action:\n",
    "Develop standard operating procedures immediately for:\n",
    "\n",
    "    Rigorous, scheduled aircraft maintenance tied to FAA best practices.\n",
    "\n",
    "    Targeted pilot training programs emphasizing critical scenarios (e.g., emergency descent, engine failure).\n",
    "\n",
    "Early investment in operations safety will reduce risk exposure and build client trust."
   ]
  },
  {
   "cell_type": "markdown",
   "id": "35c455e2",
   "metadata": {},
   "source": [
    "# 7. Prepare a Short, Business-Focused Storyline"
   ]
  },
  {
   "cell_type": "markdown",
   "id": "32464982",
   "metadata": {},
   "source": [
    "A few slides  to guide the aviation division head."
   ]
  },
  {
   "cell_type": "markdown",
   "id": "0aec33d8",
   "metadata": {},
   "source": []
  }
 ],
 "metadata": {
  "kernelspec": {
   "display_name": "Python 3",
   "language": "python",
   "name": "python3"
  },
  "language_info": {
   "codemirror_mode": {
    "name": "ipython",
    "version": 3
   },
   "file_extension": ".py",
   "mimetype": "text/x-python",
   "name": "python",
   "nbconvert_exporter": "python",
   "pygments_lexer": "ipython3",
   "version": "3.12.7"
  }
 },
 "nbformat": 4,
 "nbformat_minor": 5
}
