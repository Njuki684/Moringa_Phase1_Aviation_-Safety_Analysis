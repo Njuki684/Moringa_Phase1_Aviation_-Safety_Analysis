{
 "cells": [
  {
   "cell_type": "markdown",
   "id": "c1d588b4",
   "metadata": {},
   "source": [
    "# 1. Business Understanding"
   ]
  }
 ],
 "metadata": {
  "language_info": {
   "name": "python"
  }
 },
 "nbformat": 4,
 "nbformat_minor": 5
}
